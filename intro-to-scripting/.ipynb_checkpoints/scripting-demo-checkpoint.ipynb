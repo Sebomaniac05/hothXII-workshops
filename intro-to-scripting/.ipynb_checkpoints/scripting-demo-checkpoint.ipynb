{
 "cells": [
  {
   "cell_type": "code",
   "execution_count": 15,
   "id": "0b5222cb-cec5-4c06-98a6-ec94c7d65976",
   "metadata": {},
   "outputs": [],
   "source": [
    "import requests\n",
    "from bs4 import BeautifulSoup\n",
    "import csv\n",
    "import time\n",
    "\n",
    "# URL that we will scrape. {} will get replaced with the correct page\n",
    "BASE_URL = \"http://books.toscrape.com/catalogue/page-{}.html\" \n",
    "\n",
    "# map word ratings to number ratings\n",
    "def get_rating(rating_text):\n",
    "    ratings_map = {\n",
    "        'One': 1,\n",
    "        'Two': 2,\n",
    "        'Three': 3,\n",
    "        'Four': 4,\n",
    "        'Five': 5\n",
    "    }\n",
    "    return ratings_map.get(rating_text, 0) #default to zero if none"
   ]
  },
  {
   "cell_type": "code",
   "execution_count": 14,
   "id": "f8741b39-c59c-4445-9098-17670b9a2a0f",
   "metadata": {},
   "outputs": [
    {
     "name": "stdout",
     "output_type": "stream",
     "text": [
      "Scraped 20 books from page 1.\n"
     ]
    },
    {
     "data": {
      "text/plain": [
       "[{'title': 'A Light in the Attic',\n",
       "  'price': 'Â£51.77',\n",
       "  'availability': 'In stock',\n",
       "  'rating': 3},\n",
       " {'title': 'Tipping the Velvet',\n",
       "  'price': 'Â£53.74',\n",
       "  'availability': 'In stock',\n",
       "  'rating': 1},\n",
       " {'title': 'Soumission',\n",
       "  'price': 'Â£50.10',\n",
       "  'availability': 'In stock',\n",
       "  'rating': 1}]"
      ]
     },
     "execution_count": 14,
     "metadata": {},
     "output_type": "execute_result"
    }
   ],
   "source": [
    "def scrape_book_page(page_number):\n",
    "    #get formatted URL with right page number\n",
    "    url = BASE_URL.format(page_number)\n",
    "    # send our GET HTTP request, returns a 'Response' object and a status code\n",
    "    response = requests.get(url)\n",
    "    \n",
    "    if response.status_code != 200:\n",
    "        print(f\"Error fetching page {page_number}: HTTP {response.status_code}\")\n",
    "        return []\n",
    "        \n",
    "    #create beautiful soup parser with the text\n",
    "    soup = BeautifulSoup(response.text, 'html.parser') #response.text is the html data as a string, creates a parse tree\n",
    "    book_list = soup.find_all('article', class_='product_pod') # looks for <article> tags with class product_pod\n",
    "    \n",
    "    results = [] \n",
    "    for book in book_list:\n",
    "        # EXAMPLE: <a href=\"book1.html\" title=\"The Great Book\">Click here</a>\n",
    "        \n",
    "        # Title\n",
    "        title_tag = book.find('h3').find('a') # the 'a' tag contains the title attribute\n",
    "        title = title_tag['title'] if title_tag else 'No Title Found' #extracts the title attribute, defaults to No Title Found\n",
    "        \n",
    "        # Price\n",
    "        price_tag = book.find('p', class_='price_color')\n",
    "        price = price_tag.text.strip() if price_tag else 'N/A' #extracts the price text\n",
    "        \n",
    "        # Availability\n",
    "        stock_tag = book.find('p', class_='instock availability')\n",
    "        availability = stock_tag.text.strip() if stock_tag else 'N/A' #extracts the stock text \n",
    "        \n",
    "        # Rating (e.g. \"star-rating Three\")\n",
    "        rating_tag = book.find('p', class_='star-rating')\n",
    "        if rating_tag:\n",
    "            rating_classes = rating_tag.get('class', [])\n",
    "            # The second class might be \"One\", \"Two\", \"Three\", etc.\n",
    "            rating_text = rating_classes[1] if len(rating_classes) > 1 else 'No Rating'\n",
    "        else:\n",
    "            rating_text = 'No Rating'\n",
    "        \n",
    "        numeric_rating = get_rating(rating_text)\n",
    "        \n",
    "        results.append({\n",
    "            'title': title,\n",
    "            'price': price,\n",
    "            'availability': availability,\n",
    "            'rating': numeric_rating\n",
    "        })\n",
    "    \n",
    "    return results\n",
    "\n",
    "# Scrape first page\n",
    "sample_books = scrape_book_page(1)\n",
    "print(f\"Scraped {len(sample_books)} books from page 1.\")\n",
    "sample_books[:3]  # Show first 3 results"
   ]
  },
  {
   "cell_type": "code",
   "execution_count": 10,
   "id": "3397383b-f508-47cc-8fc6-35cda80c439d",
   "metadata": {},
   "outputs": [
    {
     "name": "stdout",
     "output_type": "stream",
     "text": [
      "Scraping page 1...\n",
      "Scraping page 2...\n",
      "Total books scraped: 40\n"
     ]
    }
   ],
   "source": [
    "def scrape_multiple_pages(start_page=1, end_page=3):\n",
    "    all_books = []\n",
    "    \n",
    "    for page in range(start_page, end_page + 1):\n",
    "        print(f\"Scraping page {page}...\")\n",
    "        page_books = scrape_book_page(page)\n",
    "        all_books.extend(page_books)\n",
    "        \n",
    "        # Polite delay\n",
    "        time.sleep(1)\n",
    "    \n",
    "    return all_books\n",
    "#\n",
    "books_data = scrape_multiple_pages(1, 2)\n",
    "print(f\"Total books scraped: {len(books_data)}\")"
   ]
  },
  {
   "cell_type": "code",
   "execution_count": 11,
   "id": "7f29ce0e-6685-4565-a453-3f1a925ffd3c",
   "metadata": {},
   "outputs": [
    {
     "name": "stdout",
     "output_type": "stream",
     "text": [
      "Data saved to 'books.csv'\n"
     ]
    }
   ],
   "source": [
    "def save_to_csv(book_list, filename=\"books.csv\"):\n",
    "    fieldnames = ['title', 'price', 'availability', 'rating']\n",
    "    with open(filename, mode='w', encoding='utf-8', newline='') as f:\n",
    "        writer = csv.DictWriter(f, fieldnames=fieldnames)\n",
    "        writer.writeheader()\n",
    "        for book in book_list:\n",
    "            writer.writerow(book)\n",
    "            \n",
    "save_to_csv(books_data, \"books.csv\")\n",
    "print(\"Data saved to 'books.csv'\")"
   ]
  },
  {
   "cell_type": "code",
   "execution_count": null,
   "id": "2e6ab6f1-0b42-4fe7-a7c7-be4463075c39",
   "metadata": {},
   "outputs": [],
   "source": []
  }
 ],
 "metadata": {
  "kernelspec": {
   "display_name": "Python (myenv)",
   "language": "python",
   "name": "myenv"
  },
  "language_info": {
   "codemirror_mode": {
    "name": "ipython",
    "version": 3
   },
   "file_extension": ".py",
   "mimetype": "text/x-python",
   "name": "python",
   "nbconvert_exporter": "python",
   "pygments_lexer": "ipython3",
   "version": "3.13.2"
  }
 },
 "nbformat": 4,
 "nbformat_minor": 5
}
